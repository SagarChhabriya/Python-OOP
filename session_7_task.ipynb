{
  "cells": [
    {
      "cell_type": "markdown",
      "metadata": {
        "id": "FyUJ3PRAsPr4"
      },
      "source": [
        "##`Q-1:` Rectangle Class\n",
        "1. Write a Rectangle class in Python language, allowing you to build a rectangle with length and width attributes.\n",
        "\n",
        "2. Create a Perimeter() method to calculate the perimeter of the rectangle and a Area() method to calculate the area of ​​the rectangle.\n",
        "\n",
        "3. Create a method display() that display the length, width, perimeter and area of an object created using an instantiation on rectangle class."
      ]
    },
    {
      "cell_type": "markdown",
      "metadata": {
        "id": "GxUtOqJfssFK"
      },
      "source": [
        "Eg.\n",
        "After making above classes and methods, on executing below code:-\n",
        "```\n",
        "my_rectangle = Rectangle(3 , 4)\n",
        "my_rectangle.display()\n",
        "```\n",
        "\n",
        "`Output:`\n",
        "```\n",
        "The length of rectangle is:  3\n",
        "The width of rectangle is:  4\n",
        "The perimeter of rectangle is:  14\n",
        "The area of rectangle is:  12\n",
        "```\n"
      ]
    },
    {
      "cell_type": "code",
      "execution_count": 16,
      "metadata": {
        "id": "92_QT-Uj6NBg"
      },
      "outputs": [],
      "source": [
        "# write your code here\n",
        "class Rectangle:\n",
        "    def __init__(this,length,width) -> None:\n",
        "        this.length = length\n",
        "        this.width = width\n",
        "    \n",
        "    def __str__(this):\n",
        "        return \"<class 'Rectangle'>\"\n",
        "    def perimeter(this):\n",
        "        return (this.length * 2 + this.width * 2)\n",
        "    def area(this):\n",
        "        return this.length * this.width\n",
        "    def display(this):\n",
        "        print(\" Length: \",this.length,\" Width: \",this.width,\"Perimeter: \",this.perimeter(),\" Area: \",this.area(),)  "
      ]
    },
    {
      "cell_type": "code",
      "execution_count": 6,
      "metadata": {},
      "outputs": [
        {
          "name": "stdout",
          "output_type": "stream",
          "text": [
            " Length:  3  Width:  4 Perimeter:  14  Area:  12\n"
          ]
        }
      ],
      "source": [
        "my_rectangle = Rectangle(3,4)\n",
        "my_rectangle.display()"
      ]
    },
    {
      "cell_type": "code",
      "execution_count": 8,
      "metadata": {},
      "outputs": [
        {
          "name": "stdout",
          "output_type": "stream",
          "text": [
            "<__main__.Rectangle object at 0x000002D0E4C7F1A0>\n"
          ]
        }
      ],
      "source": [
        "print(my_rectangle) # Before defining __str__: dunder/magic function\n",
        "# Output: <__main__.Rectangle object at 0x000002D0E4C7F1A0>"
      ]
    },
    {
      "cell_type": "code",
      "execution_count": 17,
      "metadata": {},
      "outputs": [
        {
          "name": "stdout",
          "output_type": "stream",
          "text": [
            "<class 'Rectangle'>\n"
          ]
        }
      ],
      "source": [
        "rect = Rectangle(3,4)\n",
        "print(rect)"
      ]
    },
    {
      "cell_type": "markdown",
      "metadata": {
        "id": "r_GxrS0Vrdom"
      },
      "source": [
        "##`Q-2: Bank Class`\n",
        "\n",
        "1. Create a Python class called `BankAccount` which represents a bank account, having as attributes: `accountNumber` (numeric type), `name` (name of the account owner as string type), `balance`.\n",
        "2. Create a constructor with parameters: `accountNumber, name, balance`.\n",
        "3. Create a `Deposit()` method which manages the deposit actions.\n",
        "4. Create a `Withdrawal()` method  which manages withdrawals actions.\n",
        "5. Create an `bankFees()` method to apply the bank fees with a percentage of 5% of the balance account.\n",
        "6. Create a `display()` method to display account details.\n",
        "Give the complete code for the  BankAccount class."
      ]
    },
    {
      "cell_type": "markdown",
      "metadata": {
        "id": "qvVkOUJgvTV_"
      },
      "source": [
        "Eg.\n",
        "After making above classes and methods, on executing below code:-\n",
        "```\n",
        "newAccount = BankAccount(2178514584, \"Mandy\" , 2800)\n",
        "\n",
        "newAccount.Withdrawal(700)\n",
        "\n",
        "newAccount.Deposit(1000)\n",
        "\n",
        "newAccount.display()\n",
        "```\n",
        "\n",
        "`Output:`\n",
        "```\n",
        "Account Number :  2178514584\n",
        "Account Name :  Mandy\n",
        "Account Balance :  3100 ₹\n",
        "```"
      ]
    },
    {
      "cell_type": "code",
      "execution_count": 22,
      "metadata": {
        "id": "fUQOmQyA6YDR"
      },
      "outputs": [],
      "source": [
        "# write your code here\n",
        "class BankAccount:\n",
        "    def __init__(self,accountNumber=None, name=None,balance=None) -> None:\n",
        "        self.accountNumber = accountNumber\n",
        "        self.name = name\n",
        "        self.balance = balance\n",
        "    \n",
        "    def deposit(self,depositAmount):\n",
        "        self.balance = self.balance + depositAmount\n",
        "    \n",
        "    def withdrawl(self,withdrawlAmount):\n",
        "        if withdrawlAmount < self.balance:\n",
        "            self.balance = self.balance - withdrawlAmount\n",
        "    \n",
        "    def bankFess(self):\n",
        "        return f\"{self.balance * 0.5}\"\n",
        "    \n",
        "    def display(self):\n",
        "        print(\"Account Number: \", self.accountNumber)\n",
        "        print(\"Account Name: \",self.name)\n",
        "        print(\"Account Balance: \",self.balance)"
      ]
    },
    {
      "cell_type": "code",
      "execution_count": 23,
      "metadata": {},
      "outputs": [
        {
          "name": "stdout",
          "output_type": "stream",
          "text": [
            "Account Number:  2178514584\n",
            "Account Name:  Mandy\n",
            "Account Balance:  3100\n"
          ]
        }
      ],
      "source": [
        "newAccount = BankAccount(2178514584, \"Mandy\" , 2800)\n",
        "\n",
        "newAccount.withdrawl(700)\n",
        "\n",
        "newAccount.deposit(1000)\n",
        "\n",
        "newAccount.display()"
      ]
    },
    {
      "cell_type": "markdown",
      "metadata": {
        "id": "QovcQAZTrgGU"
      },
      "source": [
        "##`Q-3:Computation class`\n",
        "\n",
        "1. Create a `Computation` class with a default constructor (without parameters) allowing to perform various calculations on integers numbers.\n",
        "2. Create a method called `Factorial()` which allows to calculate the factorial of an integer n. Integer n as parameter for this method\n",
        "\n",
        "3. Create a method called `naturalSum()` allowing to calculate the sum of the first n integers 1 + 2 + 3 + .. + n. Integer n as parameter for this method.\n",
        "\n",
        "4. Create a method called `testPrime()` in  the Calculation class to test the primality of a given integer n, n is Prime or Not? Integer n as parameter for this method.\n",
        "\n",
        "5. Create  a method called `testPrims()` allowing to test if two numbers are prime between them. Two integers are prime to one another if they have only `1` as their common divisor. Eg. 4 and 9 are prime to each other.\n",
        "\n",
        "5. Create a `tableMult()` method which creates and displays the multiplication table of a given integer. Then create an `allTablesMult()` method to display all the integer multiplication tables 1, 2, 3, ..., 9.\n",
        "\n",
        "6. Create a static `listDiv()` method that gets all the divisors of a given integer on new list called  Ldiv. Create another `listDivPrim()` method that gets all the prime divisors of a given integer."
      ]
    },
    {
      "cell_type": "code",
      "execution_count": 38,
      "metadata": {
        "id": "YEkPH70l6Z-o"
      },
      "outputs": [],
      "source": [
        "# write your code here\n",
        "class Computation:\n",
        "    def __init__(self) -> None:\n",
        "        pass\n",
        "\n",
        "    def factorial(self,n):\n",
        "        fact = 1\n",
        "        for i in range(1,n+1):\n",
        "            fact = fact * i\n",
        "        return fact\n",
        "    \n",
        "    def naturalSum(self,n):\n",
        "        sum = 0\n",
        "        for i in range(1,n+1):\n",
        "            sum = sum + i\n",
        "        return sum\n",
        "    \n",
        "    def testPrime(self):\n",
        "        pass\n",
        "\n",
        "    def testPrims(self):\n",
        "        pass\n",
        "\n",
        "    def tableMult(self,n):\n",
        "        for i in range(1,11):\n",
        "            print(f\"{i} * {n} = {i * n }\")\n",
        "\n",
        "    def allTablesMult(self):\n",
        "        for i in range(1,10):\n",
        "            for j in range(1,11):\n",
        "                print(f\"{i} * {j} = {i * j} \")\n",
        "    # TODO: listDiv(), listDivPrim()"
      ]
    },
    {
      "cell_type": "code",
      "execution_count": 40,
      "metadata": {},
      "outputs": [
        {
          "name": "stdout",
          "output_type": "stream",
          "text": [
            "6\n"
          ]
        }
      ],
      "source": [
        "computation = Computation()\n",
        "print(computation.factorial(3))"
      ]
    },
    {
      "cell_type": "code",
      "execution_count": 41,
      "metadata": {},
      "outputs": [
        {
          "name": "stdout",
          "output_type": "stream",
          "text": [
            "6\n"
          ]
        }
      ],
      "source": [
        "print(computation.naturalSum(3))"
      ]
    },
    {
      "cell_type": "code",
      "execution_count": 42,
      "metadata": {},
      "outputs": [
        {
          "name": "stdout",
          "output_type": "stream",
          "text": [
            "1 * 3 = 3\n",
            "2 * 3 = 6\n",
            "3 * 3 = 9\n",
            "4 * 3 = 12\n",
            "5 * 3 = 15\n",
            "6 * 3 = 18\n",
            "7 * 3 = 21\n",
            "8 * 3 = 24\n",
            "9 * 3 = 27\n",
            "10 * 3 = 30\n",
            "None\n"
          ]
        }
      ],
      "source": [
        "print(computation.tableMult(3))"
      ]
    },
    {
      "cell_type": "code",
      "execution_count": 43,
      "metadata": {},
      "outputs": [
        {
          "name": "stdout",
          "output_type": "stream",
          "text": [
            "1 * 1 = 1 \n",
            "1 * 2 = 2 \n",
            "1 * 3 = 3 \n",
            "1 * 4 = 4 \n",
            "1 * 5 = 5 \n",
            "1 * 6 = 6 \n",
            "1 * 7 = 7 \n",
            "1 * 8 = 8 \n",
            "1 * 9 = 9 \n",
            "1 * 10 = 10 \n",
            "2 * 1 = 2 \n",
            "2 * 2 = 4 \n",
            "2 * 3 = 6 \n",
            "2 * 4 = 8 \n",
            "2 * 5 = 10 \n",
            "2 * 6 = 12 \n",
            "2 * 7 = 14 \n",
            "2 * 8 = 16 \n",
            "2 * 9 = 18 \n",
            "2 * 10 = 20 \n",
            "3 * 1 = 3 \n",
            "3 * 2 = 6 \n",
            "3 * 3 = 9 \n",
            "3 * 4 = 12 \n",
            "3 * 5 = 15 \n",
            "3 * 6 = 18 \n",
            "3 * 7 = 21 \n",
            "3 * 8 = 24 \n",
            "3 * 9 = 27 \n",
            "3 * 10 = 30 \n",
            "4 * 1 = 4 \n",
            "4 * 2 = 8 \n",
            "4 * 3 = 12 \n",
            "4 * 4 = 16 \n",
            "4 * 5 = 20 \n",
            "4 * 6 = 24 \n",
            "4 * 7 = 28 \n",
            "4 * 8 = 32 \n",
            "4 * 9 = 36 \n",
            "4 * 10 = 40 \n",
            "5 * 1 = 5 \n",
            "5 * 2 = 10 \n",
            "5 * 3 = 15 \n",
            "5 * 4 = 20 \n",
            "5 * 5 = 25 \n",
            "5 * 6 = 30 \n",
            "5 * 7 = 35 \n",
            "5 * 8 = 40 \n",
            "5 * 9 = 45 \n",
            "5 * 10 = 50 \n",
            "6 * 1 = 6 \n",
            "6 * 2 = 12 \n",
            "6 * 3 = 18 \n",
            "6 * 4 = 24 \n",
            "6 * 5 = 30 \n",
            "6 * 6 = 36 \n",
            "6 * 7 = 42 \n",
            "6 * 8 = 48 \n",
            "6 * 9 = 54 \n",
            "6 * 10 = 60 \n",
            "7 * 1 = 7 \n",
            "7 * 2 = 14 \n",
            "7 * 3 = 21 \n",
            "7 * 4 = 28 \n",
            "7 * 5 = 35 \n",
            "7 * 6 = 42 \n",
            "7 * 7 = 49 \n",
            "7 * 8 = 56 \n",
            "7 * 9 = 63 \n",
            "7 * 10 = 70 \n",
            "8 * 1 = 8 \n",
            "8 * 2 = 16 \n",
            "8 * 3 = 24 \n",
            "8 * 4 = 32 \n",
            "8 * 5 = 40 \n",
            "8 * 6 = 48 \n",
            "8 * 7 = 56 \n",
            "8 * 8 = 64 \n",
            "8 * 9 = 72 \n",
            "8 * 10 = 80 \n",
            "9 * 1 = 9 \n",
            "9 * 2 = 18 \n",
            "9 * 3 = 27 \n",
            "9 * 4 = 36 \n",
            "9 * 5 = 45 \n",
            "9 * 6 = 54 \n",
            "9 * 7 = 63 \n",
            "9 * 8 = 72 \n",
            "9 * 9 = 81 \n",
            "9 * 10 = 90 \n",
            "None\n"
          ]
        }
      ],
      "source": [
        "print(computation.allTablesMult())"
      ]
    },
    {
      "cell_type": "markdown",
      "metadata": {
        "id": "0yn23_oEriXa"
      },
      "source": [
        "##`Q-4`: Build flashcard using class in Python.\n",
        "\n",
        "Build a flashcard using class in python. A flashcard is a card having information on both sides, which can be used as an aid in memoization. Flashcards usually have a question on one side and an answer on the other.\n",
        "\n",
        "**Example 1:**\n",
        "\n",
        "Approach:\n",
        "\n",
        "- Create a class named FlashCard.\n",
        "- Initialize dictionary fruits using __init__() method. Here you have to define fruit name as key and it's color as value. E.g., {\"Banana\": \"yellow\", \"Strawberries\": \"pink\"}\n",
        "- Now randomly choose a pair from fruits by using _random_ module and store the key in variable _fruit_ and _value_ in variable color.\n",
        "- Now prompt the user to answer the color of the randomly chosen fruit.\n",
        "- If correct print correct else print wrong.\n",
        "\n",
        "Output:\n",
        "```bash\n",
        "welcome to fruit quiz\n",
        "What is the color of Strawberries\n",
        "pink\n",
        "Correct answer\n",
        "Enter 0, if you want to play again: 0\n",
        "What is the color of watermelon\n",
        "green\n",
        "Correct answer\n",
        "Enter 0, if you want to play again: 1\n",
        "```"
      ]
    },
    {
      "cell_type": "code",
      "execution_count": null,
      "metadata": {
        "id": "vCrUF6VU6l6w"
      },
      "outputs": [],
      "source": [
        "# write your code here"
      ]
    },
    {
      "cell_type": "markdown",
      "metadata": {
        "id": "GN2r0jbRewYr"
      },
      "source": [
        "## `Q-5:` Problem 5 based on OOP Python.\n",
        "\n",
        "TechWorld, a technology training center, wants to allocate courses for instructors. An instructor is identified by name, technology skills, experience and average feedback. An instructor is allocated a course, if he/she satisfies the below two conditions:\n",
        "- eligibility criteria:\n",
        "    - if experience is more than 3 years, average feedback should be 4.5 or more\n",
        "    - if experience is 3 years or less, average feedback should be 4 or more\n",
        "- he/she should posses the technology skill for the course\n",
        "\n",
        "Identify the class name and attributes to represent instructors. Write a Python program to implement the class chosen with its attributes and methods.\n",
        "\n",
        "**Note:**\n",
        "- Consider all instance variables to be private and methods to be public.\n",
        "- An instructor may have multiple technology skills, so consider instance variable, technology_skill to be a list.\n",
        "- *check_eligibility()*: Return true if eligibility criteria is satisfied by the instructor. Else, return false\n",
        "- *allocate_course(technology)*: Return true if the course which requires the given technology can be allocated to the instructor. Else, return false.\n",
        "\n",
        "Represent a few objects of the class, initialize instance variables using setter methods, invoke\n",
        "appropriate methods and test your program."
      ]
    },
    {
      "cell_type": "code",
      "execution_count": null,
      "metadata": {
        "id": "pdMFuVFnlvKL"
      },
      "outputs": [],
      "source": [
        "# write your code here"
      ]
    }
  ],
  "metadata": {
    "colab": {
      "provenance": []
    },
    "kernelspec": {
      "display_name": "Python 3",
      "name": "python3"
    },
    "language_info": {
      "codemirror_mode": {
        "name": "ipython",
        "version": 3
      },
      "file_extension": ".py",
      "mimetype": "text/x-python",
      "name": "python",
      "nbconvert_exporter": "python",
      "pygments_lexer": "ipython3",
      "version": "3.12.3"
    }
  },
  "nbformat": 4,
  "nbformat_minor": 0
}
